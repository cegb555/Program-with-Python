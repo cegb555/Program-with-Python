{
  "nbformat": 4,
  "nbformat_minor": 0,
  "metadata": {
    "colab": {
      "provenance": [],
      "authorship_tag": "ABX9TyMLCtX5X6h1BtTP1+9Lz3b9",
      "include_colab_link": true
    },
    "kernelspec": {
      "name": "python3",
      "display_name": "Python 3"
    },
    "language_info": {
      "name": "python"
    }
  },
  "cells": [
    {
      "cell_type": "markdown",
      "metadata": {
        "id": "view-in-github",
        "colab_type": "text"
      },
      "source": [
        "<a href=\"https://colab.research.google.com/github/cegb555/Program-with-Python/blob/main/c_p_2025.ipynb\" target=\"_parent\"><img src=\"https://colab.research.google.com/assets/colab-badge.svg\" alt=\"Open In Colab\"/></a>"
      ]
    },
    {
      "cell_type": "code",
      "execution_count": null,
      "metadata": {
        "id": "W3trghcwK4wj"
      },
      "outputs": [],
      "source": []
    },
    {
      "cell_type": "markdown",
      "source": [],
      "metadata": {
        "id": "2VM4n8__jdrj"
      }
    },
    {
      "cell_type": "markdown",
      "source": [
        "# Destacado\n",
        "## Destacado\n",
        "### Destacado\n",
        "\n",
        "Subtítulo con información\n",
        "\n",
        "> + 500 jóvenes\n",
        "\n",
        "**texto en negrita**\n",
        "*texto cursiva*\n",
        "\n",
        "![imagen de ia](https://innovationcampus.cl/wp-content/uploads/2025/05/Estudiantes-SIC-1.jpg)"
      ],
      "metadata": {
        "id": "gHrEGADmm8vY"
      }
    },
    {
      "cell_type": "markdown",
      "source": [],
      "metadata": {
        "id": "DjYBpt6yoZwv"
      }
    }
  ]
}